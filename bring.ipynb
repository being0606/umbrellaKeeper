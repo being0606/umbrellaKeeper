{
 "cells": [
  {
   "cell_type": "markdown",
   "metadata": {},
   "source": [
    "ref : https://velog.io/@choonsik_mom/python-OpenAPI기상청-API로-날씨-정보-불러오기"
   ]
  },
  {
   "cell_type": "code",
   "execution_count": 4,
   "metadata": {},
   "outputs": [],
   "source": [
    "import requests"
   ]
  },
  {
   "cell_type": "code",
   "execution_count": 10,
   "metadata": {},
   "outputs": [],
   "source": [
    "serviceKey = 'INSERT_YOUR_KEY'"
   ]
  },
  {
   "cell_type": "code",
   "execution_count": 12,
   "metadata": {},
   "outputs": [
    {
     "name": "stdout",
     "output_type": "stream",
     "text": [
      "b'<?xml version=\"1.0\" encoding=\"UTF-8\"?>\\r\\n<response><header><resultCode>00</resultCode><resultMsg>NORMAL_SERVICE</resultMsg></header><body><dataType>XML</dataType><items><item><baseDate>20231106</baseDate><baseTime>1400</baseTime><category>PTY</category><nx>55</nx><ny>127</ny><obsrValue>0</obsrValue></item><item><baseDate>20231106</baseDate><baseTime>1400</baseTime><category>REH</category><nx>55</nx><ny>127</ny><obsrValue>63</obsrValue></item><item><baseDate>20231106</baseDate><baseTime>1400</baseTime><category>RN1</category><nx>55</nx><ny>127</ny><obsrValue>0</obsrValue></item><item><baseDate>20231106</baseDate><baseTime>1400</baseTime><category>T1H</category><nx>55</nx><ny>127</ny><obsrValue>15</obsrValue></item><item><baseDate>20231106</baseDate><baseTime>1400</baseTime><category>UUU</category><nx>55</nx><ny>127</ny><obsrValue>5.3</obsrValue></item><item><baseDate>20231106</baseDate><baseTime>1400</baseTime><category>VEC</category><nx>55</nx><ny>127</ny><obsrValue>248</obsrValue></item><item><baseDate>20231106</baseDate><baseTime>1400</baseTime><category>VVV</category><nx>55</nx><ny>127</ny><obsrValue>2.1</obsrValue></item><item><baseDate>20231106</baseDate><baseTime>1400</baseTime><category>WSD</category><nx>55</nx><ny>127</ny><obsrValue>5.7</obsrValue></item></items><numOfRows>1000</numOfRows><pageNo>1</pageNo><totalCount>8</totalCount></body></response>\\r\\n'\n"
     ]
    }
   ],
   "source": [
    "url = 'http://apis.data.go.kr/1360000/VilageFcstInfoService_2.0/getUltraSrtNcst'\n",
    "params = {\n",
    "    'serviceKey' : serviceKey,\n",
    "    'pageNo' : '1',\n",
    "    'numOfRows' : '1000',\n",
    "    'dataType' : 'XML',\n",
    "    'base_date' : '20231106',\n",
    "    'base_time' : '1400',\n",
    "    'nx' : '55',\n",
    "    'ny' : '127'\n",
    "}\n",
    "\n",
    "response = requests.get(url, params=params)\n",
    "print(response.content)"
   ]
  },
  {
   "cell_type": "code",
   "execution_count": null,
   "metadata": {},
   "outputs": [],
   "source": []
  }
 ],
 "metadata": {
  "kernelspec": {
   "display_name": "Python 3",
   "language": "python",
   "name": "python3"
  },
  "language_info": {
   "codemirror_mode": {
    "name": "ipython",
    "version": 3
   },
   "file_extension": ".py",
   "mimetype": "text/x-python",
   "name": "python",
   "nbconvert_exporter": "python",
   "pygments_lexer": "ipython3",
   "version": "3.9.6"
  }
 },
 "nbformat": 4,
 "nbformat_minor": 2
}
